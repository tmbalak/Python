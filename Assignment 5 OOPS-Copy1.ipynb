{
 "cells": [
  {
   "cell_type": "markdown",
   "id": "9c17f2bd-24fb-4872-8bac-7029d714cd00",
   "metadata": {},
   "source": [
    "!!!!! Assignment 5- OOPS !!!!!!!"
   ]
  },
  {
   "cell_type": "markdown",
   "id": "e2983c45-9d72-482e-9db9-476a4e778f62",
   "metadata": {},
   "source": [
    "Q1. Explain Class and Object with respect to Object-Oriented Programming. Give a suitable example.\n",
    "Ans : \n",
    "Object − Objects have states and behaviors. Example: A dog has states - color, name, breed as well as behaviors – wagging the tail, barking, eating. An object is an instance of a class.\n",
    "Class − A class can be defined as a template/blueprint that describes the behavior/state that the object of its type support.\n"
   ]
  },
  {
   "cell_type": "markdown",
   "id": "b0b5c4fc-11e7-4187-94b1-0f9ba696e128",
   "metadata": {},
   "source": [
    "Q2. Name the four pillars of OOPs.\n",
    "Ans :\n",
    "The four pillars of oops are \n",
    "a) Abstaction \n",
    "b) Encapsulation\n",
    "c) Inheritance\n",
    "4 ) Polymorphism"
   ]
  },
  {
   "cell_type": "markdown",
   "id": "ef0ac781-28bd-4468-a905-da3ea61dfecf",
   "metadata": {},
   "source": [
    "Q3. Explain why the __init__() function is used. Give a suitable example.\n",
    "Ans :__Int__ function is used to  understand the built-in __init__() function in all classes. which is always executed when the class is being initiated. The __init__ method lets the class initialize the object's attributes and serves no other purpose. It is only used within classes"
   ]
  },
  {
   "cell_type": "markdown",
   "id": "d53fe40c-a48b-44a6-976a-6e7bb53f8313",
   "metadata": {},
   "source": [
    "Q4. Why self is used in OOPs?\n",
    "Ans : self keyword is used to represent an instance (object) of the given class."
   ]
  },
  {
   "cell_type": "markdown",
   "id": "e95898ba-e4c3-4d0d-8289-f9cd43d4d558",
   "metadata": {},
   "source": [
    "Q5. What is inheritance? Give an example for each type of inheritance\n",
    "Ans : Inheritance is a mechanism in which one class acquires the property of another class. For example, a child inherits the traits of his/her parents. With inheritance, we can reuse the fields and methods of the existing class\n"
   ]
  }
 ],
 "metadata": {
  "kernelspec": {
   "display_name": "Python 3 (ipykernel)",
   "language": "python",
   "name": "python3"
  },
  "language_info": {
   "codemirror_mode": {
    "name": "ipython",
    "version": 3
   },
   "file_extension": ".py",
   "mimetype": "text/x-python",
   "name": "python",
   "nbconvert_exporter": "python",
   "pygments_lexer": "ipython3",
   "version": "3.10.8"
  },
  "toc-autonumbering": true,
  "toc-showcode": true
 },
 "nbformat": 4,
 "nbformat_minor": 5
}
