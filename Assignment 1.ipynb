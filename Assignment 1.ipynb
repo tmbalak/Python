{
 "cells": [
  {
   "cell_type": "markdown",
   "id": "4223df8c-15b2-4764-b631-f2b44569ba2b",
   "metadata": {},
   "source": [
    "1. Who developed Python Programming Language? \n",
    "Ans - Python programming Language developed by Guido van Rossum"
   ]
  },
  {
   "cell_type": "markdown",
   "id": "2dc8a142-6de1-44fc-8a7b-bfa3402db4fe",
   "metadata": {},
   "source": [
    "2. Which type of Programming does Python support? \n",
    "Ans : Python is an interpreted programming language, supporting object-oriented, structured, and functional programming."
   ]
  },
  {
   "cell_type": "markdown",
   "id": "6de0e73a-f15d-4b12-9474-e16ea90ec7f8",
   "metadata": {},
   "source": [
    "3. Is Python case sensitive when dealing with identifiers? \n",
    "Ans : Yes, Python is a case-sensitive language, it treats uppercase and lowercase characters differently. This applies to identifiers too"
   ]
  },
  {
   "cell_type": "markdown",
   "id": "52b3ac6b-0aeb-47fe-9119-cb2df19b68cf",
   "metadata": {},
   "source": [
    "4. What is the correct extension of the Python file? \n",
    "Ans : py or pyi"
   ]
  },
  {
   "cell_type": "markdown",
   "id": "c097b695-5292-42c1-a5a5-d288a98ebd3a",
   "metadata": {},
   "source": [
    "5. Is Python code compiled or interpreted? \n",
    "Ans : Python is interpreted launguage"
   ]
  },
  {
   "cell_type": "markdown",
   "id": "ee30a5db-c396-4e4d-8eec-470b1b2b0d82",
   "metadata": {},
   "source": [
    "6. Name a few blocks of code used to define in Python language? \n",
    "Ans : Module , Function body , Class"
   ]
  },
  {
   "cell_type": "markdown",
   "id": "819afc81-6e97-4fdc-9c8d-275cb31f0b93",
   "metadata": {},
   "source": [
    "7. State a character used to give single-line comments in Python? \n",
    "Ans : Adding a # before any statement "
   ]
  },
  {
   "cell_type": "markdown",
   "id": "32a94688-e2dc-40fc-812a-15c983e3fe2d",
   "metadata": {},
   "source": [
    "8. Mention functions which can help us to find the version of python that we are currently working on? \n",
    "Ans : Function sys.version "
   ]
  },
  {
   "cell_type": "markdown",
   "id": "63f56050-5f11-4d00-8dc8-ad771361b014",
   "metadata": {},
   "source": [
    "9. Python supports the creation of anonymous functions at runtime, using a construct called \n",
    "Ans : Lambda "
   ]
  },
  {
   "cell_type": "markdown",
   "id": "8831c9cd-1384-44a2-9732-8518dbb6e751",
   "metadata": {},
   "source": [
    "10. What does pip stand for python? \n",
    "Ans : preferred installer program"
   ]
  },
  {
   "cell_type": "markdown",
   "id": "a6167467-e8b5-4f39-8f52-59c15bec7af3",
   "metadata": {},
   "source": [
    "11. Mention a few built-in functions in python? \n",
    "Ans :\n",
    "print ()\n",
    "type ()\n",
    "max()\n",
    "min()\n",
    "return ()\n",
    "def ()\n"
   ]
  },
  {
   "cell_type": "markdown",
   "id": "a78c8b0f-a5e5-4782-a034-cf5f243e9993",
   "metadata": {},
   "source": [
    "12. What is the maximum possible length of an identifier in Python? \n",
    "Ans : 79 characters as max"
   ]
  },
  {
   "cell_type": "markdown",
   "id": "1f89bb9e-6f2c-4681-b3d2-0dd3d26692ae",
   "metadata": {},
   "source": [
    "13. What are the benefits of using Python? \n",
    "Ans : \n",
    "Simple to Use and Understand. For newcomers, Python is simple to understand and use. ...\n",
    "Free and Open-Source.\n",
    "Productivity has Increased.\n",
    "Interpreted Language.\n",
    "Extensive library.\n",
    "Dynamically Typed.\n",
    "Portability.\n",
    "Supportive communit"
   ]
  },
  {
   "cell_type": "markdown",
   "id": "5ffe2006-6044-46e1-ab5c-905ff16759cb",
   "metadata": {},
   "source": [
    "14. How is memory managed in Python? "
   ]
  },
  {
   "cell_type": "markdown",
   "id": "8309429b-885f-4f71-8258-6b82505ba2b4",
   "metadata": {},
   "source": [
    "15. How to install Python on Windows and set path variables? 16. Is indentation required in python? \n",
    "Ans : Annaconda navigator"
   ]
  },
  {
   "cell_type": "markdown",
   "id": "9c182524-a29b-4f9d-8b32-a53d706a1717",
   "metadata": {},
   "source": [
    "16. Is indentation required in python? \n",
    "Ans : Yes indentation is required to block the statements "
   ]
  }
 ],
 "metadata": {
  "kernelspec": {
   "display_name": "Python 3 (ipykernel)",
   "language": "python",
   "name": "python3"
  },
  "language_info": {
   "codemirror_mode": {
    "name": "ipython",
    "version": 3
   },
   "file_extension": ".py",
   "mimetype": "text/x-python",
   "name": "python",
   "nbconvert_exporter": "python",
   "pygments_lexer": "ipython3",
   "version": "3.10.8"
  }
 },
 "nbformat": 4,
 "nbformat_minor": 5
}
